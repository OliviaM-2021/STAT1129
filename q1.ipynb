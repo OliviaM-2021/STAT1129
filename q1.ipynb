{
 "cells": [
  {
   "cell_type": "code",
   "execution_count": 1,
   "metadata": {},
   "outputs": [],
   "source": [
    "import json\n",
    "import matplotlib.pyplot as plt"
   ]
  },
  {
   "cell_type": "code",
   "execution_count": 2,
   "metadata": {},
   "outputs": [],
   "source": [
    "def question1(data):\n",
    "    # counting freq\n",
    "    res = dict()\n",
    "    for num in data:\n",
    "        res[num] = res.get(num, 0) + 1\n",
    "    label = list(sorted(res.keys()))\n",
    "    frequencies = [res[num] for num in label]\n",
    "    # plotting freq results\n",
    "    plt.figure()\n",
    "    plt.bar(label, frequencies, )\n",
    "    plt.xlabel('num')\n",
    "    plt.ylabel('frequency')\n",
    "    plt.xticks(label)\n",
    "    plt.title('num vs frequency')\n",
    "    plt.show()\n",
    "    # save as json \n",
    "    with open('q1_result.json', 'w') as f:\n",
    "        json.dump(res, f)\n",
    "    print('Result is saved as q1_result.json')"
   ]
  },
  {
   "cell_type": "code",
   "execution_count": 3,
   "metadata": {},
   "outputs": [],
   "source": [
    "nums = [2,4,6,8,4,5,2,1,9,0,4,6,7,4,3,2,1,9,10,3,7,9,6,0,1,3,5,6,7,8,9,10,2,3,6,8,9,10,6,7,4,3]"
   ]
  },
  {
   "cell_type": "code",
   "execution_count": 4,
   "metadata": {},
   "outputs": [
    {
     "data": {
      "image/png": "[encoded data removed]",
      "text/plain": [
       "<Figure size 432x288 with 1 Axes>"
      ]
     },
     "metadata": {
      "needs_background": "light"
     },
     "output_type": "display_data"
    },
    {
     "name": "stdout",
     "output_type": "stream",
     "text": [
      "Result is saved as q1_result.json\n"
     ]
    }
   ],
   "source": [
    "question1(nums)"
   ]
  }
 ],
 "metadata": {
  "kernelspec": {
   "display_name": "Python 3",
   "language": "python",
   "name": "python3"
  },
  "language_info": {
   "codemirror_mode": {
    "name": "ipython",
    "version": 3
   },
   "file_extension": ".py",
   "mimetype": "text/x-python",
   "name": "python",
   "nbconvert_exporter": "python",
   "pygments_lexer": "ipython3",
   "version": "3.8.5"
  }
 },
 "nbformat": 4,
 "nbformat_minor": 4
}
